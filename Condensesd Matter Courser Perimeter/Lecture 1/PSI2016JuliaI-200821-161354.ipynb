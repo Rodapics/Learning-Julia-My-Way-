{
 "cells": [
  {
   "cell_type": "markdown",
   "metadata": {},
   "source": [
    "### Perimeter International Scholars, March 21 - April 8 2016\n",
    "### Explorations in Condensed Matter Theory\n",
    "# Many-body entanglement and tensor networks\n",
    " \n",
    "\n",
    "\n",
    "\n",
    "Guifre Vidal, Perimeter Institute\n",
    "\n",
    "# IJulia I: linear algebra and plotting"
   ]
  },
  {
   "cell_type": "code",
   "execution_count": 2,
   "metadata": {},
   "outputs": [],
   "source": [
    "using Pkg\n",
    "using JLD\n",
    "using LinearMaps\n",
    "using LinearAlgebra\n"
   ]
  },
  {
   "cell_type": "code",
   "execution_count": 3,
   "metadata": {
    "collapsed": false,
    "jupyter": {
     "outputs_hidden": false
    }
   },
   "outputs": [
    {
     "name": "stdout",
     "output_type": "stream",
     "text": [
      "My name is Carlos Rodallega\n"
     ]
    }
   ],
   "source": [
    "# This is a comment\n",
    "println(\"My name is Carlos Rodallega\") # replace xxx with your name and press Shift+Enter"
   ]
  },
  {
   "cell_type": "markdown",
   "metadata": {},
   "source": [
    "You can use the menu arrows $\\uparrow$ and $\\downarrow$ to move from one cell to another. Try it!\n",
    "\n",
    "### numbers"
   ]
  },
  {
   "cell_type": "code",
   "execution_count": 4,
   "metadata": {
    "collapsed": false,
    "jupyter": {
     "outputs_hidden": false
    }
   },
   "outputs": [
    {
     "data": {
      "text/plain": [
       "1"
      ]
     },
     "execution_count": 4,
     "metadata": {},
     "output_type": "execute_result"
    }
   ],
   "source": [
    "a = 1  # integer number"
   ]
  },
  {
   "cell_type": "code",
   "execution_count": 5,
   "metadata": {
    "collapsed": false,
    "jupyter": {
     "outputs_hidden": false
    }
   },
   "outputs": [
    {
     "data": {
      "text/plain": [
       "3.3"
      ]
     },
     "execution_count": 5,
     "metadata": {},
     "output_type": "execute_result"
    }
   ],
   "source": [
    "b = 2.3 # real number\n",
    "c = a+b # sum"
   ]
  },
  {
   "cell_type": "code",
   "execution_count": 6,
   "metadata": {
    "collapsed": false,
    "jupyter": {
     "outputs_hidden": false
    }
   },
   "outputs": [
    {
     "data": {
      "text/plain": [
       "1.0 + 2.3im"
      ]
     },
     "execution_count": 6,
     "metadata": {},
     "output_type": "execute_result"
    }
   ],
   "source": [
    "z = a + b*im  # complex numbers"
   ]
  },
  {
   "cell_type": "markdown",
   "metadata": {},
   "source": [
    "### vectors"
   ]
  },
  {
   "cell_type": "code",
   "execution_count": 7,
   "metadata": {
    "collapsed": false,
    "jupyter": {
     "outputs_hidden": false
    }
   },
   "outputs": [
    {
     "data": {
      "text/plain": [
       "1×4 Matrix{Float64}:\n",
       " 1.1  2.0  0.0  0.2"
      ]
     },
     "execution_count": 7,
     "metadata": {},
     "output_type": "execute_result"
    }
   ],
   "source": [
    "v = [1.1 2.0 0 0.2]  # row vector Las separaciones se encuentran por espacios"
   ]
  },
  {
   "cell_type": "code",
   "execution_count": 8,
   "metadata": {
    "collapsed": false,
    "jupyter": {
     "outputs_hidden": false
    }
   },
   "outputs": [
    {
     "data": {
      "text/plain": [
       "4×1 adjoint(::Matrix{Float64}) with eltype Float64:\n",
       " 0.3\n",
       " 0.0\n",
       " 2.0\n",
       " 1.2"
      ]
     },
     "execution_count": 8,
     "metadata": {},
     "output_type": "execute_result"
    }
   ],
   "source": [
    "w = [0.3 0 2 1.2]'  # column vector  "
   ]
  },
  {
   "cell_type": "code",
   "execution_count": 9,
   "metadata": {
    "collapsed": false,
    "jupyter": {
     "outputs_hidden": false
    }
   },
   "outputs": [
    {
     "data": {
      "text/plain": [
       "4×1 Matrix{ComplexF64}:\n",
       " 0.39100610828572824 + 0.025660042783525405im\n",
       " 0.39059290980568884 + 0.9296554095846457im\n",
       "  0.6855614791964788 + 0.6439034212176554im\n",
       " 0.08677163683614464 + 0.25838139885425915im"
      ]
     },
     "execution_count": 9,
     "metadata": {},
     "output_type": "execute_result"
    }
   ],
   "source": [
    "w = rand(4,1) + im*rand(4,1) # random column vector -- try rand(1,4) to create a row vector"
   ]
  },
  {
   "cell_type": "code",
   "execution_count": 10,
   "metadata": {
    "collapsed": false,
    "jupyter": {
     "outputs_hidden": false
    }
   },
   "outputs": [
    {
     "data": {
      "text/plain": [
       "0.39059290980568884 + 0.9296554095846457im"
      ]
     },
     "execution_count": 10,
     "metadata": {},
     "output_type": "execute_result"
    }
   ],
   "source": [
    "w[2] # access component 2 of the vector w, el conteo empieza en 1."
   ]
  },
  {
   "cell_type": "code",
   "execution_count": 11,
   "metadata": {
    "collapsed": false,
    "jupyter": {
     "outputs_hidden": false
    }
   },
   "outputs": [
    {
     "data": {
      "text/plain": [
       "1×1 Matrix{ComplexF64}:\n",
       " 1.2286468660929077 + 1.9392131460020212im"
      ]
     },
     "execution_count": 11,
     "metadata": {},
     "output_type": "execute_result"
    }
   ],
   "source": [
    "v*w # scalar product as a 1x1 array"
   ]
  },
  {
   "cell_type": "code",
   "execution_count": 12,
   "metadata": {
    "collapsed": false,
    "jupyter": {
     "outputs_hidden": false
    }
   },
   "outputs": [
    {
     "data": {
      "text/plain": [
       "1.2286468660929077 + 1.9392131460020212im"
      ]
     },
     "execution_count": 12,
     "metadata": {},
     "output_type": "execute_result"
    }
   ],
   "source": [
    "(v*w)[1] # scalar product as a single number"
   ]
  },
  {
   "cell_type": "code",
   "execution_count": 13,
   "metadata": {
    "collapsed": false,
    "jupyter": {
     "outputs_hidden": false
    }
   },
   "outputs": [
    {
     "data": {
      "text/plain": [
       "1.45919931404858 + 0.0im"
      ]
     },
     "execution_count": 13,
     "metadata": {},
     "output_type": "execute_result"
    }
   ],
   "source": [
    "sqrt((w'*w)[1]) # norm of w"
   ]
  },
  {
   "cell_type": "markdown",
   "metadata": {},
   "source": [
    "### matrices"
   ]
  },
  {
   "cell_type": "code",
   "execution_count": 14,
   "metadata": {
    "collapsed": false,
    "jupyter": {
     "outputs_hidden": false
    }
   },
   "outputs": [
    {
     "data": {
      "text/plain": [
       "4×4 Matrix{ComplexF64}:\n",
       "  0.153544+0.0im        0.176579-0.353478im   …  0.0405583-0.0988021im\n",
       "  0.176579+0.353478im    1.01682+0.0im            0.274098-0.0202542im\n",
       "  0.284581+0.234179im   0.866384-0.385832im        0.22586-0.121264im\n",
       " 0.0405583+0.0988021im  0.274098+0.0202542im     0.0742903+0.0im"
      ]
     },
     "execution_count": 14,
     "metadata": {},
     "output_type": "execute_result"
    }
   ],
   "source": [
    "M = w*w' #create the matrice"
   ]
  },
  {
   "cell_type": "code",
   "execution_count": 15,
   "metadata": {
    "collapsed": false,
    "jupyter": {
     "outputs_hidden": false
    }
   },
   "outputs": [
    {
     "data": {
      "text/plain": [
       "3×3 Matrix{Float64}:\n",
       " 0.721063  0.550859   0.851691\n",
       " 0.834151  0.0816136  0.121378\n",
       " 0.332515  0.795296   0.759128"
      ]
     },
     "execution_count": 15,
     "metadata": {},
     "output_type": "execute_result"
    }
   ],
   "source": [
    "n=3\n",
    "M = rand(n,n)  # nxn random matrix "
   ]
  },
  {
   "cell_type": "code",
   "execution_count": 16,
   "metadata": {
    "collapsed": false,
    "jupyter": {
     "outputs_hidden": false
    }
   },
   "outputs": [
    {
     "data": {
      "text/plain": [
       "3×3 adjoint(::Matrix{Float64}) with eltype Float64:\n",
       " 0.721063  0.834151   0.332515\n",
       " 0.550859  0.0816136  0.795296\n",
       " 0.851691  0.121378   0.759128"
      ]
     },
     "execution_count": 16,
     "metadata": {},
     "output_type": "execute_result"
    }
   ],
   "source": [
    "M' #Transpuesta de la matrix definida previamente."
   ]
  },
  {
   "cell_type": "code",
   "execution_count": 17,
   "metadata": {
    "collapsed": false,
    "jupyter": {
     "outputs_hidden": false
    }
   },
   "outputs": [
    {
     "data": {
      "text/plain": [
       "3×3 Matrix{Float64}:\n",
       " 0.721063  0.692505   0.592103\n",
       " 0.692505  0.0816136  0.458337\n",
       " 0.592103  0.458337   0.759128"
      ]
     },
     "execution_count": 17,
     "metadata": {},
     "output_type": "execute_result"
    }
   ],
   "source": [
    "M = (M+M')/2 # let us make M Hermitian!"
   ]
  },
  {
   "cell_type": "markdown",
   "metadata": {},
   "source": [
    "### eigenvector decomposition"
   ]
  },
  {
   "cell_type": "code",
   "execution_count": 18,
   "metadata": {
    "collapsed": false,
    "jupyter": {
     "outputs_hidden": false
    }
   },
   "outputs": [
    {
     "data": {
      "text/plain": [
       "Eigen{Float64, Float64, Matrix{Float64}, Vector{Float64}}\n",
       "values:\n",
       "3-element Vector{Float64}:\n",
       " -0.3672938542749735\n",
       "  0.1939339315436106\n",
       "  1.735164960607653\n",
       "vectors:\n",
       "3×3 Matrix{Float64}:\n",
       "  0.500505   -0.562367  -0.658208\n",
       " -0.861313   -0.246727  -0.444146\n",
       "  0.0873751   0.789221  -0.607862"
      ]
     },
     "execution_count": 18,
     "metadata": {},
     "output_type": "execute_result"
    }
   ],
   "source": [
    "D,U = eigen(M) # eigenvalue decomposition"
   ]
  },
  {
   "cell_type": "code",
   "execution_count": 19,
   "metadata": {
    "collapsed": false,
    "jupyter": {
     "outputs_hidden": false
    }
   },
   "outputs": [
    {
     "data": {
      "text/plain": [
       "3-element Vector{Float64}:\n",
       " -0.3672938542749735\n",
       "  0.1939339315436106\n",
       "  1.735164960607653"
      ]
     },
     "execution_count": 19,
     "metadata": {},
     "output_type": "execute_result"
    }
   ],
   "source": [
    "D  # eigenvalues"
   ]
  },
  {
   "cell_type": "code",
   "execution_count": 20,
   "metadata": {
    "collapsed": false,
    "jupyter": {
     "outputs_hidden": false
    }
   },
   "outputs": [
    {
     "data": {
      "text/plain": [
       "3×3 Matrix{Float64}:\n",
       "  0.500505   -0.562367  -0.658208\n",
       " -0.861313   -0.246727  -0.444146\n",
       "  0.0873751   0.789221  -0.607862"
      ]
     },
     "execution_count": 20,
     "metadata": {},
     "output_type": "execute_result"
    }
   ],
   "source": [
    "U # eigenvectors Cada columna tiene un vector propio de la matrix."
   ]
  },
  {
   "cell_type": "markdown",
   "metadata": {},
   "source": [
    "Is it true that $~~~~M = U \\cdot D \\cdot U^{\\dagger}~~?$ "
   ]
  },
  {
   "cell_type": "code",
   "execution_count": 21,
   "metadata": {
    "collapsed": false,
    "jupyter": {
     "outputs_hidden": false
    }
   },
   "outputs": [
    {
     "data": {
      "text/plain": [
       "3×3 Matrix{Float64}:\n",
       " 0.721063  0.692505   0.592103\n",
       " 0.692505  0.0816136  0.458337\n",
       " 0.592103  0.458337   0.759128"
      ]
     },
     "metadata": {},
     "output_type": "display_data"
    },
    {
     "data": {
      "text/plain": [
       "3×3 Matrix{Float64}:\n",
       " 0.721063  0.692505   0.592103\n",
       " 0.692505  0.0816136  0.458337\n",
       " 0.592103  0.458337   0.759128"
      ]
     },
     "metadata": {},
     "output_type": "display_data"
    }
   ],
   "source": [
    "N = U*diagm(D)*U' # let us build UDU' Diagonal matrix\n",
    "display(M) # Are M and\n",
    "display(N) # N the same?"
   ]
  },
  {
   "cell_type": "code",
   "execution_count": 22,
   "metadata": {
    "collapsed": false,
    "jupyter": {
     "outputs_hidden": false
    }
   },
   "outputs": [
    {
     "data": {
      "text/plain": [
       "3×3 Matrix{Float64}:\n",
       " -8.88178e-16  -5.55112e-16   1.22125e-15\n",
       " -5.55112e-16  -9.4369e-16    7.21645e-16\n",
       "  1.11022e-15   7.21645e-16  -1.9984e-15"
      ]
     },
     "metadata": {},
     "output_type": "display_data"
    },
    {
     "name": "stdout",
     "output_type": "stream",
     "text": [
      "The norm of M-N is 3.1709454510692674e-15\n"
     ]
    }
   ],
   "source": [
    "display(M-N) # yes, up to numerical precision\n",
    "println(\"The norm of M-N is \", norm(M-N))"
   ]
  },
  {
   "cell_type": "code",
   "execution_count": 23,
   "metadata": {
    "collapsed": false,
    "jupyter": {
     "outputs_hidden": false
    }
   },
   "outputs": [
    {
     "data": {
      "text/plain": [
       "3-element Vector{Float64}:\n",
       "  0.5005053528536882\n",
       " -0.8613129446336134\n",
       "  0.08737507179613165"
      ]
     },
     "execution_count": 23,
     "metadata": {},
     "output_type": "execute_result"
    }
   ],
   "source": [
    "evalue1 = D[1] # first eigenvalue of matrix M\n",
    "evector1 = U[:,1] # first eigenvector of matrix M"
   ]
  },
  {
   "cell_type": "markdown",
   "metadata": {},
   "source": [
    "Is it true that $~~~~M\\cdot\\vec{v}_1 = \\lambda_1 \\vec{v}_1 ~~~~?$ "
   ]
  },
  {
   "cell_type": "code",
   "execution_count": 24,
   "metadata": {
    "collapsed": false,
    "jupyter": {
     "outputs_hidden": false
    }
   },
   "outputs": [
    {
     "data": {
      "text/plain": [
       "3-element Vector{Float64}:\n",
       " -0.18383254013488698\n",
       "  0.31635495117140716\n",
       " -0.03209232688755416"
      ]
     },
     "metadata": {},
     "output_type": "display_data"
    },
    {
     "data": {
      "text/plain": [
       "3-element Vector{Float64}:\n",
       " -0.18383254013488678\n",
       "  0.3163549511714067\n",
       " -0.03209232688755372"
      ]
     },
     "metadata": {},
     "output_type": "display_data"
    }
   ],
   "source": [
    "display(M*evector1) # \n",
    "display(evalue1*evector1) # "
   ]
  },
  {
   "cell_type": "markdown",
   "metadata": {},
   "source": [
    "### Kronecker product $~~~~A \\otimes B = \\left[ \\begin{array}{cc} \n",
    "a_{11} B & a_{12}B &\\cdots& a_{1n} B \\\\ \n",
    "a_{21} B & a_{22}B &\\cdots& a_{2n} B \\\\\n",
    "\\vdots & \\vdots & \\cdots & \\vdots \\\\\n",
    "a_{n1} B & a_{n2}B &\\cdots& a_{nn} B\n",
    "\\end{array} \\right]$"
   ]
  },
  {
   "cell_type": "code",
   "execution_count": 25,
   "metadata": {
    "collapsed": false,
    "jupyter": {
     "outputs_hidden": false
    }
   },
   "outputs": [
    {
     "data": {
      "text/plain": [
       "2×2 Matrix{Int64}:\n",
       " 1  0\n",
       " 0  1"
      ]
     },
     "execution_count": 25,
     "metadata": {},
     "output_type": "execute_result"
    }
   ],
   "source": [
    "I = [1 0; 0 1]"
   ]
  },
  {
   "cell_type": "code",
   "execution_count": 26,
   "metadata": {
    "collapsed": false,
    "jupyter": {
     "outputs_hidden": false
    }
   },
   "outputs": [
    {
     "data": {
      "text/plain": [
       "2×2 Matrix{Int64}:\n",
       " 0  1\n",
       " 1  0"
      ]
     },
     "execution_count": 26,
     "metadata": {},
     "output_type": "execute_result"
    }
   ],
   "source": [
    "X = [0 1; 1 0]"
   ]
  },
  {
   "cell_type": "code",
   "execution_count": 27,
   "metadata": {
    "collapsed": false,
    "jupyter": {
     "outputs_hidden": false
    }
   },
   "outputs": [
    {
     "data": {
      "text/plain": [
       "2×2 Matrix{Int64}:\n",
       " 1  2\n",
       " 3  4"
      ]
     },
     "execution_count": 27,
     "metadata": {},
     "output_type": "execute_result"
    }
   ],
   "source": [
    "A = [1 2; 3 4]"
   ]
  },
  {
   "cell_type": "markdown",
   "metadata": {},
   "source": [
    "Example: $$\\left[ \\begin{array}{cc} 1 & 0 \\\\ 0 & 1 \\end{array} \\right] \\otimes \\left[ \\begin{array}{cc} a & b \\\\ c & d \\end{array} \\right] = \\left[ \\begin{array}{cc} a & b & 0 & 0 \\\\ c & d & 0 & 0 \\\\ 0 & 0 & a & b \\\\ 0 & 0 & c & d \\end{array} \\right]$$"
   ]
  },
  {
   "cell_type": "code",
   "execution_count": 28,
   "metadata": {
    "collapsed": false,
    "jupyter": {
     "outputs_hidden": false
    }
   },
   "outputs": [
    {
     "data": {
      "text/plain": [
       "4×4 Matrix{Int64}:\n",
       " 1  2  0  0\n",
       " 3  4  0  0\n",
       " 0  0  1  2\n",
       " 0  0  3  4"
      ]
     },
     "execution_count": 28,
     "metadata": {},
     "output_type": "execute_result"
    }
   ],
   "source": [
    "kron(I,A)"
   ]
  },
  {
   "cell_type": "code",
   "execution_count": 29,
   "metadata": {
    "collapsed": false,
    "jupyter": {
     "outputs_hidden": false
    }
   },
   "outputs": [
    {
     "data": {
      "text/plain": [
       "4×4 Matrix{Int64}:\n",
       " 0  0  1  2\n",
       " 0  0  3  4\n",
       " 1  2  0  0\n",
       " 3  4  0  0"
      ]
     },
     "execution_count": 29,
     "metadata": {},
     "output_type": "execute_result"
    }
   ],
   "source": [
    "kron(X,A)"
   ]
  },
  {
   "cell_type": "code",
   "execution_count": 30,
   "metadata": {
    "collapsed": false,
    "jupyter": {
     "outputs_hidden": false
    }
   },
   "outputs": [
    {
     "data": {
      "text/plain": [
       "4×4 Matrix{Int64}:\n",
       " 1  0  2  0\n",
       " 0  1  0  2\n",
       " 3  0  4  0\n",
       " 0  3  0  4"
      ]
     },
     "execution_count": 30,
     "metadata": {},
     "output_type": "execute_result"
    }
   ],
   "source": [
    "kron(A, I)"
   ]
  },
  {
   "cell_type": "code",
   "execution_count": 31,
   "metadata": {
    "collapsed": false,
    "jupyter": {
     "outputs_hidden": false
    }
   },
   "outputs": [
    {
     "data": {
      "text/plain": [
       "4×4 Matrix{Int64}:\n",
       " 1   2   2   4\n",
       " 3   4   6   8\n",
       " 3   6   4   8\n",
       " 9  12  12  16"
      ]
     },
     "execution_count": 31,
     "metadata": {},
     "output_type": "execute_result"
    }
   ],
   "source": [
    "kron(A,A)"
   ]
  },
  {
   "cell_type": "markdown",
   "metadata": {},
   "source": [
    "### quantum Ising model on N=3 spins\n",
    "$$H = \\sigma^x_1 \\otimes \\sigma^x_2 + \\sigma^x_2 \\otimes \\sigma^x_3 +  \\sigma^x_3 \\otimes \\sigma^x_1 \n",
    "+ h\\left( \\sigma^z_1 + \\sigma^z_2 + \\sigma^z_3\\right) $$"
   ]
  },
  {
   "cell_type": "code",
   "execution_count": 44,
   "metadata": {
    "collapsed": false,
    "jupyter": {
     "outputs_hidden": false
    }
   },
   "outputs": [
    {
     "data": {
      "text/plain": [
       "8×8 Matrix{Float64}:\n",
       " 0.0  0.0  0.0  0.0  0.0  1.0  0.0  0.0\n",
       " 0.0  0.0  0.0  0.0  1.0  0.0  0.0  0.0\n",
       " 0.0  0.0  0.0  0.0  0.0  0.0  0.0  1.0\n",
       " 0.0  0.0  0.0  0.0  0.0  0.0  1.0  0.0\n",
       " 0.0  1.0  0.0  0.0  0.0  0.0  0.0  0.0\n",
       " 1.0  0.0  0.0  0.0  0.0  0.0  0.0  0.0\n",
       " 0.0  0.0  0.0  1.0  0.0  0.0  0.0  0.0\n",
       " 0.0  0.0  1.0  0.0  0.0  0.0  0.0  0.0"
      ]
     },
     "execution_count": 44,
     "metadata": {},
     "output_type": "execute_result"
    }
   ],
   "source": [
    "I = [1 0; 0 1]\n",
    "#I = eye(2)\n",
    "\n",
    "X = [0. 1; 1 0]\n",
    "Z = [1. 0; 0 -1]\n",
    "\n",
    "II = [1 0 0 0; 0 1 0 0; 0 0 1 0; 0 0 0 1]\n",
    "#II = eye(4)\n",
    "\n",
    "\n",
    "XX = kron(X,X)\n",
    "\n",
    "kron(X,kron(I,X))"
   ]
  },
  {
   "cell_type": "code",
   "execution_count": 45,
   "metadata": {
    "collapsed": false,
    "jupyter": {
     "outputs_hidden": false
    }
   },
   "outputs": [
    {
     "data": {
      "text/plain": [
       "8×8 Matrix{Float64}:\n",
       " 0.0  0.0  0.0  1.0  0.0  1.0  1.0  0.0\n",
       " 0.0  0.0  1.0  0.0  1.0  0.0  0.0  1.0\n",
       " 0.0  1.0  0.0  0.0  1.0  0.0  0.0  1.0\n",
       " 1.0  0.0  0.0  0.0  0.0  1.0  1.0  0.0\n",
       " 0.0  1.0  1.0  0.0  0.0  0.0  0.0  1.0\n",
       " 1.0  0.0  0.0  1.0  0.0  0.0  1.0  0.0\n",
       " 1.0  0.0  0.0  1.0  0.0  1.0  0.0  0.0\n",
       " 0.0  1.0  1.0  0.0  1.0  0.0  0.0  0.0"
      ]
     },
     "execution_count": 45,
     "metadata": {},
     "output_type": "execute_result"
    }
   ],
   "source": [
    "HXX = kron(XX,I) + kron(I, XX) + kron(X,kron(I,X))"
   ]
  },
  {
   "cell_type": "code",
   "execution_count": 34,
   "metadata": {
    "collapsed": false,
    "jupyter": {
     "outputs_hidden": false
    }
   },
   "outputs": [
    {
     "data": {
      "text/plain": [
       "8×8 Matrix{Float64}:\n",
       " 3.0  0.0  0.0   0.0  0.0   0.0   0.0   0.0\n",
       " 0.0  1.0  0.0   0.0  0.0   0.0   0.0   0.0\n",
       " 0.0  0.0  1.0   0.0  0.0   0.0   0.0   0.0\n",
       " 0.0  0.0  0.0  -1.0  0.0   0.0   0.0   0.0\n",
       " 0.0  0.0  0.0   0.0  1.0   0.0   0.0   0.0\n",
       " 0.0  0.0  0.0   0.0  0.0  -1.0   0.0   0.0\n",
       " 0.0  0.0  0.0   0.0  0.0   0.0  -1.0   0.0\n",
       " 0.0  0.0  0.0   0.0  0.0   0.0   0.0  -3.0"
      ]
     },
     "execution_count": 34,
     "metadata": {},
     "output_type": "execute_result"
    }
   ],
   "source": [
    "HZ = kron(Z,II) + kron(I,kron(Z,I)) + kron(II,Z)"
   ]
  },
  {
   "cell_type": "code",
   "execution_count": 35,
   "metadata": {
    "collapsed": false,
    "jupyter": {
     "outputs_hidden": false
    }
   },
   "outputs": [
    {
     "data": {
      "text/plain": [
       "Eigen{Float64, Float64, Matrix{Float64}, Vector{Float64}}\n",
       "values:\n",
       "8-element Vector{Float64}:\n",
       " -3.2360679774997845\n",
       " -1.999999999999999\n",
       " -1.2360679774997845\n",
       "  0.0\n",
       "  1.1102230246251565e-15\n",
       "  1.2360679774997896\n",
       "  2.0\n",
       "  3.23606797749979\n",
       "vectors:\n",
       "8×8 Matrix{Float64}:\n",
       "  0.0        0.0        0.229753  0.0       …   0.0        0.0       0.973249\n",
       " -0.229753   0.0        0.0       0.0          -0.973249   0.0       0.0\n",
       "  0.0        0.0        0.0       0.0           0.0       -0.707107  0.0\n",
       "  0.0       -0.707107   0.0       0.707107      0.0        0.0       0.0\n",
       "  0.0        0.0        0.0       0.0           0.0       -0.707107  0.0\n",
       "  0.0        0.707107   0.0       0.707107  …   0.0        0.0       0.0\n",
       "  0.0        0.0       -0.973249  0.0           0.0        0.0       0.229753\n",
       "  0.973249   0.0        0.0       0.0          -0.229753   0.0       0.0"
      ]
     },
     "execution_count": 35,
     "metadata": {},
     "output_type": "execute_result"
    }
   ],
   "source": [
    "H = HXX + HZ\n",
    "D,U = eigen(H)"
   ]
  },
  {
   "cell_type": "code",
   "execution_count": 36,
   "metadata": {
    "collapsed": false,
    "jupyter": {
     "outputs_hidden": false
    }
   },
   "outputs": [
    {
     "data": {
      "text/plain": [
       "20-element Vector{Float64}:\n",
       " 0.0\n",
       " 0.10526315789473684\n",
       " 0.21052631578947367\n",
       " 0.3157894736842105\n",
       " 0.42105263157894735\n",
       " 0.5263157894736842\n",
       " 0.631578947368421\n",
       " 0.7368421052631579\n",
       " 0.8421052631578947\n",
       " 0.9473684210526315\n",
       " 1.0526315789473684\n",
       " 1.1578947368421053\n",
       " 1.263157894736842\n",
       " 1.368421052631579\n",
       " 1.4736842105263157\n",
       " 1.5789473684210527\n",
       " 1.6842105263157894\n",
       " 1.7894736842105263\n",
       " 1.894736842105263\n",
       " 2.0"
      ]
     },
     "execution_count": 36,
     "metadata": {},
     "output_type": "execute_result"
    }
   ],
   "source": [
    "H_max = 2\n",
    "I=20\n",
    "h = collect(0:H_max/(I-1):H_max)"
   ]
  },
  {
   "cell_type": "code",
   "execution_count": 37,
   "metadata": {
    "collapsed": false,
    "jupyter": {
     "outputs_hidden": false
    }
   },
   "outputs": [
    {
     "data": {
      "text/plain": [
       "20-element Vector{Float64}:\n",
       " -0.9999999999999989\n",
       " -1.1271835704709248\n",
       " -1.2955541120046465\n",
       " -1.4985371081181156\n",
       " -1.72839393140781\n",
       " -1.9782225499088106\n",
       " -2.2426555647383104\n",
       " -2.51778150691459\n",
       " -2.8008204279924596\n",
       " -3.0898034144260618\n",
       " -3.3833252447878412\n",
       " -3.680369887646682\n",
       " -3.980191473503221\n",
       " -4.282233796982397\n",
       " -4.586075671994209\n",
       " -4.891393468959906\n",
       " -5.197935101152523\n",
       " -5.505501706969224\n",
       " -5.813934566553986\n",
       " -6.123105625617652"
      ]
     },
     "execution_count": 37,
     "metadata": {},
     "output_type": "execute_result"
    }
   ],
   "source": [
    "E0 = zeros(I)\n",
    "for i=1:I\n",
    "    H = HXX + h[i]*HZ\n",
    "    D,U = eigen(H)\n",
    "    E0[i] = D[1]\n",
    "end\n",
    "E0"
   ]
  },
  {
   "cell_type": "code",
   "execution_count": 38,
   "metadata": {
    "collapsed": false,
    "jupyter": {
     "outputs_hidden": false
    }
   },
   "outputs": [
    {
     "data": {
      "image/png": "[encoded data removed]",
      "text/plain": [
       "Figure(PyObject <Figure size 640x480 with 1 Axes>)"
      ]
     },
     "metadata": {},
     "output_type": "display_data"
    },
    {
     "data": {
      "text/plain": [
       "PyObject Text(24.000000000000007, 0.5, 'Energy')"
      ]
     },
     "execution_count": 38,
     "metadata": {},
     "output_type": "execute_result"
    }
   ],
   "source": [
    "#using Pkg\n",
    "#Pkg.add(\"PyPlot\")\n",
    "using PyPlot\n",
    "plot(h,E0, marker=\"s\", color = \"r\")\n",
    "grid(\"on\")\n",
    "title(\"Ground state energy: quantum Ising model for N=3 spins\")\n",
    "xlabel(\"magnetic field h\")\n",
    "ylabel(\"Energy\")"
   ]
  },
  {
   "cell_type": "code",
   "execution_count": null,
   "metadata": {
    "collapsed": true,
    "jupyter": {
     "outputs_hidden": true
    }
   },
   "outputs": [],
   "source": []
  }
 ],
 "metadata": {
  "kernelspec": {
   "display_name": "Julia 1.10.0",
   "language": "julia",
   "name": "julia-1.10"
  },
  "language_info": {
   "file_extension": ".jl",
   "mimetype": "application/julia",
   "name": "julia",
   "version": "1.10.0"
  }
 },
 "nbformat": 4,
 "nbformat_minor": 4
}
