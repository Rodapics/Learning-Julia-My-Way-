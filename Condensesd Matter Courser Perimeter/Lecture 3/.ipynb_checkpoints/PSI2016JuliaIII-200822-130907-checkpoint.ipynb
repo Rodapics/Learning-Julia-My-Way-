{
 "cells": [
  {
   "cell_type": "markdown",
   "metadata": {},
   "source": [
    "# Perimeter International Scholars, March 21 - April 8 2016\n",
    "### Explorations in Condensed Matter Theory\n",
    "# Many-body entanglement and tensor networks\n",
    " \n",
    "\n",
    "\n",
    "\n",
    "Guifre Vidal, Perimeter Institute\n",
    "\n",
    "# IJulia III: statistical partition function"
   ]
  },
  {
   "cell_type": "markdown",
   "metadata": {},
   "source": [
    "### Tensors: multi-dimensional arrays"
   ]
  },
  {
   "cell_type": "code",
   "execution_count": 1,
   "metadata": {
    "collapsed": false
   },
   "outputs": [
    {
     "data": {
      "text/plain": [
       "2x4x2 Array{Float64,3}:\n",
       "[:, :, 1] =\n",
       " 1.0  1.0  1.0  1.0\n",
       " 1.0  1.0  1.0  1.0\n",
       "\n",
       "[:, :, 2] =\n",
       " 1.0  1.0  1.0  1.0\n",
       " 1.0  1.0  1.0  1.0"
      ]
     },
     "execution_count": 1,
     "metadata": {},
     "output_type": "execute_result"
    }
   ],
   "source": [
    "A = ones(2,4,2)  # also: A = zeros(2,4,2), and A = rand(2,4,2)"
   ]
  },
  {
   "cell_type": "code",
   "execution_count": 2,
   "metadata": {
    "collapsed": false
   },
   "outputs": [
    {
     "data": {
      "text/plain": [
       "2x4x2 Array{Float64,3}:\n",
       "[:, :, 1] =\n",
       " 0.894888  0.109811  0.313063  0.678159\n",
       " 0.29396   0.851036  0.691535  0.329653\n",
       "\n",
       "[:, :, 2] =\n",
       " 0.547358  0.618201  0.550433  0.410495\n",
       " 0.884928  0.789505  0.220537  0.868758"
      ]
     },
     "execution_count": 2,
     "metadata": {},
     "output_type": "execute_result"
    }
   ],
   "source": [
    "B = rand(2,4,2)"
   ]
  },
  {
   "cell_type": "code",
   "execution_count": 3,
   "metadata": {
    "collapsed": false
   },
   "outputs": [
    {
     "data": {
      "text/plain": [
       "2x4x2 Array{Complex{Float64},3}:\n",
       "[:, :, 1] =\n",
       " 3.0+0.894888im  3.0+0.109811im  3.0+0.313063im  3.0+0.678159im\n",
       " 3.0+0.29396im   3.0+0.851036im  3.0+0.691535im  3.0+0.329653im\n",
       "\n",
       "[:, :, 2] =\n",
       " 3.0+0.547358im  3.0+0.618201im  3.0+0.550433im  3.0+0.410495im\n",
       " 3.0+0.884928im  3.0+0.789505im  3.0+0.220537im  3.0+0.868758im"
      ]
     },
     "execution_count": 3,
     "metadata": {},
     "output_type": "execute_result"
    }
   ],
   "source": [
    "3*A+im*B"
   ]
  },
  {
   "cell_type": "code",
   "execution_count": 4,
   "metadata": {
    "collapsed": false
   },
   "outputs": [
    {
     "data": {
      "text/plain": [
       "(2,4,2)"
      ]
     },
     "execution_count": 4,
     "metadata": {},
     "output_type": "execute_result"
    }
   ],
   "source": [
    "sB = size(B)"
   ]
  },
  {
   "cell_type": "code",
   "execution_count": 5,
   "metadata": {
    "collapsed": false
   },
   "outputs": [
    {
     "data": {
      "text/plain": [
       "8x2 Array{Float64,2}:\n",
       " 0.894888  0.547358\n",
       " 0.29396   0.884928\n",
       " 0.109811  0.618201\n",
       " 0.851036  0.789505\n",
       " 0.313063  0.550433\n",
       " 0.691535  0.220537\n",
       " 0.678159  0.410495\n",
       " 0.329653  0.868758"
      ]
     },
     "execution_count": 5,
     "metadata": {},
     "output_type": "execute_result"
    }
   ],
   "source": [
    "C = reshape(B, (8, 2))"
   ]
  },
  {
   "cell_type": "code",
   "execution_count": 8,
   "metadata": {
    "collapsed": false
   },
   "outputs": [
    {
     "data": {
      "text/plain": [
       "true"
      ]
     },
     "execution_count": 8,
     "metadata": {},
     "output_type": "execute_result"
    }
   ],
   "source": [
    "D = reshape(C, (2, 4, 2))\n",
    "B-D\n",
    "isequal(B,D)\n",
    "#isequal(B,D+1e-18)"
   ]
  },
  {
   "cell_type": "markdown",
   "metadata": {
    "collapsed": false
   },
   "source": [
    "## Statistical partition function \n",
    "### The ferromagnetic (classical ) Ising model \n",
    "$$H = - \\sum_{\\langle i,j \\rangle } \\sigma^{(i)} \\sigma^{(j)}$$, \n",
    "### where $\\sigma = \\pm 1$, is\n",
    "$$Z = \\sum_{\\{\\sigma\\}} \\exp\\left(-\\frac{H(\\{\\sigma\\})}{T}\\right) = \\sum_{\\{\\sigma\\}} \\exp \\left( \\frac{1}{T} \\sum_{\\langle i,j \\rangle } \\sigma^{(i)} \\sigma^{(j)}\\right)$$"
   ]
  },
  {
   "cell_type": "markdown",
   "metadata": {},
   "source": [
    "### Boltzmann weights and critical temperature"
   ]
  },
  {
   "cell_type": "code",
   "execution_count": 10,
   "metadata": {
    "collapsed": false
   },
   "outputs": [
    {
     "data": {
      "text/plain": [
       "2.269185314213022"
      ]
     },
     "execution_count": 10,
     "metadata": {},
     "output_type": "execute_result"
    }
   ],
   "source": [
    "Tc = 2/log(1+sqrt(2)) # critical temperature\n",
    "J = 1\n",
    "T = Tc"
   ]
  },
  {
   "cell_type": "markdown",
   "metadata": {},
   "source": [
    "### Tensor A"
   ]
  },
  {
   "cell_type": "code",
   "execution_count": 12,
   "metadata": {
    "collapsed": false
   },
   "outputs": [],
   "source": [
    "function q(i,j)\n",
    "    #return 1-2*mod(i+j,2)\n",
    "    return (-1)^(i+j)\n",
    "end\n",
    "\n",
    "A = zeros(2,2,2,2)\n",
    "for i=1:2\n",
    "    for j=1:2\n",
    "        for k=1:2\n",
    "            for l=1:2\n",
    "                A[i,j,k,l] = exp( ( q(i,j) + q(j,k) + q(k,l) + q(l,i) )/T )\n",
    "            end\n",
    "        end\n",
    "    end\n",
    "end"
   ]
  },
  {
   "cell_type": "code",
   "execution_count": 13,
   "metadata": {
    "collapsed": false
   },
   "outputs": [
    {
     "data": {
      "text/plain": [
       "0.0"
      ]
     },
     "execution_count": 13,
     "metadata": {},
     "output_type": "execute_result"
    }
   ],
   "source": [
    "# using list comprehension\n",
    "\n",
    "B =[ exp( ( q(i,j) + q(j,k) + q(k,l) + q(l,i) )/T ) for i=1:2, j=1:2, k=1:2, l=1:2]\n",
    "\n",
    "vecnorm(A-B)"
   ]
  },
  {
   "cell_type": "markdown",
   "metadata": {},
   "source": [
    "### Transfer matrix of width $N=2$"
   ]
  },
  {
   "cell_type": "code",
   "execution_count": 14,
   "metadata": {
    "collapsed": false
   },
   "outputs": [
    {
     "data": {
      "text/plain": [
       "4x4 Array{Float64,2}:\n",
       " 36.0  8.0  8.0   4.0\n",
       "  8.0  4.0  4.0   8.0\n",
       "  8.0  4.0  4.0   8.0\n",
       "  4.0  8.0  8.0  36.0"
      ]
     },
     "execution_count": 14,
     "metadata": {},
     "output_type": "execute_result"
    }
   ],
   "source": [
    "d=2\n",
    "AA = zeros(d, d, d, d)\n",
    "for i=1:d\n",
    "    for j=1:d\n",
    "        for k=1:d\n",
    "            for l=1:d\n",
    "                for m=1:d\n",
    "                    for n=1:d\n",
    "                        AA[j,m,l,n] += A[i, j, k, l]*A[k, m, i, n]\n",
    "                    end\n",
    "                end\n",
    "            end\n",
    "        end\n",
    "    end\n",
    "end\n",
    "AA = reshape(AA, (d^2, d^2))"
   ]
  },
  {
   "cell_type": "markdown",
   "metadata": {},
   "source": [
    "### Transfer matrix of width N"
   ]
  },
  {
   "cell_type": "code",
   "execution_count": 16,
   "metadata": {
    "collapsed": false
   },
   "outputs": [
    {
     "data": {
      "text/plain": [
       "growM (generic function with 1 method)"
      ]
     },
     "execution_count": 16,
     "metadata": {},
     "output_type": "execute_result"
    }
   ],
   "source": [
    "function growM(M,A)\n",
    "    sM = size(M) # we assume sM = (dh, dvM, dh, dvM)  \n",
    "    sA = size(A) #           sA = (dh, dvA, dh, dvA)\n",
    "    dh = sM[1]\n",
    "    dvM = sM[2]\n",
    "    dvA = sA[2]\n",
    "    MA = zeros((dh, dvM, dvA, dh, dvM, dvA))\n",
    "    for i=1:dh\n",
    "        for j=1:dvA\n",
    "            for k=1:dh\n",
    "                for l=1:dvA\n",
    "                    for m=1:dvM\n",
    "                        for n=1:dh\n",
    "                            for o=1:dvM\n",
    "                                MA[i,m, j, n, o, l] += M[k, m, n, o]*A[i, j, k, l]\n",
    "                            end\n",
    "                        end\n",
    "                    end\n",
    "                end\n",
    "            end\n",
    "        end\n",
    "    end         \n",
    "    MA = reshape(MA, (dh, dvM*dvA, dh, dvM*dvA))\n",
    "    return MA\n",
    "end\n",
    "\n"
   ]
  },
  {
   "cell_type": "code",
   "execution_count": 17,
   "metadata": {
    "collapsed": false,
    "scrolled": false
   },
   "outputs": [
    {
     "data": {
      "text/plain": [
       "buildM (generic function with 1 method)"
      ]
     },
     "execution_count": 17,
     "metadata": {},
     "output_type": "execute_result"
    }
   ],
   "source": [
    "function buildM(A,N)\n",
    "    M = copy(A)\n",
    "    for n=2:N\n",
    "        M = growM(M,A)\n",
    "    end\n",
    "    sM = size(M) # sM = (dh, dvM, dh, dvM)\n",
    "    dh = sM[1]\n",
    "    dvM = sM[2]\n",
    "    MM = zeros(dvM,dvM)\n",
    "    for i=1:dh\n",
    "        MM += reshape(M[i,:,i,:], (dvM, dvM))\n",
    "    end\n",
    "    return MM\n",
    "end\n"
   ]
  },
  {
   "cell_type": "code",
   "execution_count": 18,
   "metadata": {
    "collapsed": false
   },
   "outputs": [
    {
     "data": {
      "text/plain": [
       "buildZ2 (generic function with 1 method)"
      ]
     },
     "execution_count": 18,
     "metadata": {},
     "output_type": "execute_result"
    }
   ],
   "source": [
    "# Translation operator \n",
    "\n",
    "function buildT(N) \n",
    "    SWAP = [1. 0 0 0; 0 0 1 0; 0 1 0 0; 0 0 0 1]\n",
    "    I = eye(2)\n",
    "    T = SWAP\n",
    "    SWAPn = SWAP\n",
    "    for i=3:N\n",
    "        T = kron(T,I)\n",
    "        SWAPn = kron(I,SWAPn)\n",
    "        T = T*SWAPn\n",
    "    end\n",
    "    return T\n",
    "end\n",
    "\n",
    "# Parity operator\n",
    "\n",
    "function buildZ2(N)\n",
    "    X = [0 1; 1 0]\n",
    "    Z2 = X\n",
    "    for i=2:N\n",
    "        Z2 = kron(Z2,X)\n",
    "    end\n",
    "    return Z2\n",
    "end\n"
   ]
  },
  {
   "cell_type": "code",
   "execution_count": 19,
   "metadata": {
    "collapsed": false
   },
   "outputs": [],
   "source": [
    "N = 10 # size of the spin chain (N not larger than 12)\n",
    "Nstates = 12\n",
    "M = buildM(A,N) \n",
    "T = buildT(N)\n",
    "Z2 = buildZ2(N)\n",
    "D,Psi = eigs(M*T,nev=12);\n",
    "#D,Psi = eig(M);"
   ]
  },
  {
   "cell_type": "code",
   "execution_count": 20,
   "metadata": {
    "collapsed": false
   },
   "outputs": [
    {
     "data": {
      "text/plain": [
       "12x5 Array{Float64,2}:\n",
       " 1.22059e8   0.0       -0.0        0.0  -0.0\n",
       " 1.12857e8   0.0        0.124746   0.0   1.0\n",
       " 6.49478e7   0.0        1.00414    0.0  -0.0\n",
       " 5.95732e7   0.628319   1.14161    1.0   1.0\n",
       " 5.95732e7  -0.628319   1.14161   -1.0   1.0\n",
       " 3.34353e7   1.25664    2.06088    2.0  -0.0\n",
       " 3.34353e7  -1.25664    2.06088   -2.0  -0.0\n",
       " 3.34353e7   0.628319   2.06088    1.0   0.0\n",
       " 3.34353e7  -0.628319   2.06088   -1.0   0.0\n",
       " 3.14466e7   0.0        2.15848    0.0   1.0\n",
       " 2.92995e7   1.25664    2.27103    2.0   1.0\n",
       " 2.92995e7  -1.25664    2.27103   -2.0   1.0"
      ]
     },
     "execution_count": 20,
     "metadata": {},
     "output_type": "execute_result"
    }
   ],
   "source": [
    "W = real(diag(Psi'*M*Psi))\n",
    "d = -(log(W)-log(W[1]))*N/(2pi)\n",
    "\n",
    "K = angle(diag(Psi'*T*Psi))\n",
    "s = K/(2pi)*N\n",
    "\n",
    "p = diag(Psi'*Z2*Psi)\n",
    "p = real(round((1-p)/2));\n",
    "\n",
    "[W K d s p]"
   ]
  },
  {
   "cell_type": "code",
   "execution_count": 21,
   "metadata": {
    "collapsed": false
   },
   "outputs": [
    {
     "data": {
      "image/png": "[encoded data removed]",
      "text/plain": [
       "PyPlot.Figure(PyObject <matplotlib.figure.Figure object at 0x000000001D1ABAC8>)"
      ]
     },
     "metadata": {},
     "output_type": "display_data"
    }
   ],
   "source": [
    "using PyPlot\n",
    "\n",
    "# Exact solution\n",
    "Ndim = 12\n",
    "Delta = [0 1/8 1 1+1/8 1+1/8 2 2 2 2 2+1/8 2+1/8 2+1/8]\n",
    "spin = [0 0 0 1 -1 2 1 -1 -2 2 0 -2]\n",
    "parity = [0 1 0 1 1 0 0 0 0 1 1 1]\n",
    "\n",
    "figure(\"conformal_data_pbc\",figsize=(10,4))\n",
    "\n",
    "subplot(121) # Create the 1st axis of a 2x2 arrax of axes\n",
    "grid(\"on\") # Create a grid on the axis\n",
    "title(\"Even Parity, p=0\")\n",
    "ax = gca()\n",
    "ax[:set_xlim]([-3,3])\n",
    "ax[:set_ylim]([-0.2,2.8])\n",
    "xlabel(\"conformal spin\")\n",
    "ylabel(\"scaling dimension\")\n",
    "annotate(\"identity\", xy=[0.2;0])\n",
    "annotate(L\"$\\mathbb{I}$\", xy=[-0.3;0.2])\n",
    "annotate(\"energy density\", xy=[0.2;1])\n",
    "annotate(L\"$\\epsilon$\", xy=[-0.3;1.2])\n",
    "\n",
    "subplot(122) # Create the 1st axis of a 2x2 arrax of axes\n",
    "grid(\"on\") # Create a grid on the axis\n",
    "title(\"Odd Parity, p=1\")\n",
    "ax = gca()\n",
    "ax[:set_xlim]([-3,3])\n",
    "ax[:set_ylim]([-0.2,2.8])\n",
    "xlabel(\"conformal spin\")\n",
    "ylabel(\"scaling dimension\")\n",
    "annotate(\"spin\", xy=[0.2;1/8])\n",
    "annotate(L\"$\\sigma$\", xy=[-0.3;0.3])\n",
    "\n",
    "for i=1:Ndim\n",
    "    if parity[i] == 0\n",
    "        subplot(121)\n",
    "        plot(spin[i],Delta[i], marker = \"s\", markersize = 10, color = \"y\")\n",
    "    elseif parity[i] == 1\n",
    "        subplot(122)\n",
    "        plot(spin[i],Delta[i], marker = \"s\", markersize = 10, color = \"y\")\n",
    "    end\n",
    "end  \n",
    "\n",
    "for i=1:Nstates\n",
    "    if p[i] == 0\n",
    "        subplot(121)\n",
    "        plot(s[i],d[i], marker = \"o\", color = \"b\")\n",
    "    elseif p[i] == 1\n",
    "        subplot(122)\n",
    "        plot(s[i],d[i], marker = \"o\", color = \"g\")\n",
    "    end\n",
    "end    \n"
   ]
  },
  {
   "cell_type": "markdown",
   "metadata": {},
   "source": [
    "### central charge"
   ]
  },
  {
   "cell_type": "code",
   "execution_count": 22,
   "metadata": {
    "collapsed": false
   },
   "outputs": [
    {
     "name": "stdout",
     "output_type": "stream",
     "text": [
      "  0.002137 seconds (47 allocations: 3.984 KB)\n",
      "  0.000069 seconds (27 allocations: 22.406 KB)\n",
      "  0.000956 seconds (42 allocations: 332.891 KB)\n",
      "  0.038966 seconds (52 allocations: 5.169 MB)\n",
      "  0.698393 seconds (72 allocations: 82.670 MB, 1.83% gc time)\n",
      " "
     ]
    }
   ],
   "source": [
    "Nsites = [2,4,6,8,10,12]  # at most 12 sites\n",
    "qq = zeros(6)\n",
    "for i=1:6\n",
    "    @time M = buildM(A,Nsites[i])\n",
    "    D,V = eigs(M, nev=1)\n",
    "    qq[i] = D[1]\n",
    "end\n"
   ]
  },
  {
   "cell_type": "code",
   "execution_count": 23,
   "metadata": {
    "collapsed": false,
    "scrolled": false
   },
   "outputs": [
    {
     "name": "stdout",
     "output_type": "stream",
     "text": [
      "13.419252 seconds (86 allocations: 1.292 GB, 0.86% gc time)\n",
      "Estimates cc6 = 0.48417871673144786 and cc2 = 0.49760054424929656 for the central charge c = 0.5"
     ]
    },
    {
     "data": {
      "image/png": "[encoded data removed]",
      "text/plain": [
       "PyPlot.Figure(PyObject <matplotlib.figure.Figure object at 0x000000001EF59780>)"
      ]
     },
     "metadata": {},
     "output_type": "display_data"
    },
    {
     "name": "stdout",
     "output_type": "stream",
     "text": [
      "\n"
     ]
    }
   ],
   "source": [
    "logq = zeros(qq)\n",
    "for i=1:6\n",
    "    logq[i] = log(qq[i])*Nsites[i]\n",
    "end\n",
    "\n",
    "plot(Nsites.^2, logq, marker=\"o\", linestyle = \" \")\n",
    "\n",
    "# estimate using all system sizes\n",
    "X=float(Nsites.^2)\n",
    "a6,b6 = linreg(X,logq)\n",
    "plot([1:160;], a6+b6*[1:160;], color = \"g\")\n",
    "cc6 = a6/2pi*12\n",
    "\n",
    "# estimate using the largest 3 system sizes\n",
    "a2,b2 = linreg(X[5:6],logq[5:6])\n",
    "plot([1:160;], a2+b2*[1:160;], color = \"r\")\n",
    "cc2 = a2/2pi*12\n",
    "\n",
    "println(\"Estimates cc6 = $cc6 and cc2 = $cc2 for the central charge c = 0.5\")"
   ]
  },
  {
   "cell_type": "markdown",
   "metadata": {
    "collapsed": true
   },
   "source": [
    "### Conection to the 1D Quantum Ising model"
   ]
  },
  {
   "cell_type": "code",
   "execution_count": 24,
   "metadata": {
    "collapsed": false
   },
   "outputs": [
    {
     "name": "stdout",
     "output_type": "stream",
     "text": [
      "Energy of ground state of critical quantum Ising model     = -12.784906442999329\n",
      "Energy of dominant eigenvector of critical transfer matrix = -12.784906442999326\n",
      "They are the same state!\n"
     ]
    }
   ],
   "source": [
    "N=10\n",
    "M = buildM(A,N)\n",
    "D,Psi = eigs(M, nev=1)\n",
    "Z = [1 0; 0 -1]\n",
    "ZZ = kron(Z,Z)\n",
    "ZZn = kron(ZZ,eye(2^(N-2)))\n",
    "X = [0 1; 1 0]\n",
    "Xn = kron(X, eye(2^(N-1)))\n",
    "EZZ = (Psi'*ZZn*Psi)[1]\n",
    "EX = (Psi'*Xn*Psi)[1]\n",
    "E02D = -10*(EZZ+EX) # from transfer matrix\n",
    "E01D = -12.784906442999329 # from quantum spin chain (tutorial A)\n",
    "println(\"Energy of ground state of critical quantum Ising model     = $E01D\")\n",
    "println(\"Energy of dominant eigenvector of critical transfer matrix = $E02D\")\n",
    "println(\"They are the same state!\")"
   ]
  },
  {
   "cell_type": "code",
   "execution_count": null,
   "metadata": {
    "collapsed": true
   },
   "outputs": [],
   "source": []
  }
 ],
 "metadata": {
  "kernelspec": {
   "display_name": "Julia 0.4.3",
   "language": "julia",
   "name": "julia-0.4"
  },
  "language_info": {
   "file_extension": ".jl",
   "mimetype": "application/julia",
   "name": "julia",
   "version": "0.4.3"
  }
 },
 "nbformat": 4,
 "nbformat_minor": 0
}
